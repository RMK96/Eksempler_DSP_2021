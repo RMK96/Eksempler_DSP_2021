{
  "cells": [
    {
      "metadata": {},
      "cell_type": "markdown",
      "source": "# Filtering a signal\n\nIn this notebook we are going to look at how to  implement a filter in order to \nfilter an incoming signal.\nThe signal is going to be a sampled version of  \n$$\n\\begin{align*}\n    x(t)&=\\sin(2\\pi f_1 t) + 0.2\\sin(2\\pi f_2 t)\n\\end{align*}\n$$\nwhere $f_1$ and $f_2$ are frequencies. We will have $f_1 > f_2$ \n\n**Draw a block diagram showing the system.**\n\n\nFirst we do the imports"
    },
    {
      "metadata": {
        "trusted": true
      },
      "cell_type": "code",
      "source": "%matplotlib notebook\nimport numpy as np\nimport matplotlib.pyplot as plt\nimport scipy.signal as signal\nplt.rcParams['figure.figsize'] = (6.0, 3)",
      "execution_count": null,
      "outputs": []
    },
    {
      "metadata": {},
      "cell_type": "markdown",
      "source": "We now implement the signal and sample it.\nThe parameters we are using are:\n$$\n\\begin{align*}\n    f_1&=1024~\\text{Hz}\\\\\n    f_2&=128~\\text{Hz}\\\\\n    f_s&=8192~\\text{Hz}\\\\\n    N &= 1024\n\\end{align*}\n$$"
    },
    {
      "metadata": {
        "trusted": true
      },
      "cell_type": "code",
      "source": "N = 1024 \nfs = 8192 # Hz\nf1 = 1024 # Hz\nf2 = 128 # Hz\n\nts = 1/fs # s\nn = np.arange(0,N,1)\n\nx = np.sin(2*np.pi*f1*n*ts) + 0.2*np.sin(2*np.pi*f2*n*ts)\n\nplt.figure()\nplt.plot(n,x,'--.')\nplt.xlabel('$n$')\nplt.ylabel('$x[n]$')\nplt.xlim([0,100]) # Only show the first 100 samples\nplt.grid()\nplt.tight_layout()\n\n# Plot the DFT\nplt.figure()\nX = np.fft.fft(x,N)\nplt.plot(np.arange(0,N)*fs/N,np.abs(X),'-o')\nplt.xlabel('$f$ (Hz)')\nplt.ylabel('Magnitude')\nplt.xlim([0,fs/2]) # Only showing the half the plot\n\nplt.grid()\nplt.tight_layout()\nplt.show()",
      "execution_count": null,
      "outputs": []
    },
    {
      "metadata": {},
      "cell_type": "markdown",
      "source": "## Filtering so that only the data is shown\n\nYour task now is to implement a filter that only lets through the slow signal. \nOne choice for this is a lowpass filter. \nBelow is some code. Finish it to complete the filter. \nYou have to choose which filter to use."
    },
    {
      "metadata": {},
      "cell_type": "markdown",
      "source": "#### Chebyshev Window filter"
    },
    {
      "metadata": {
        "trusted": true
      },
      "cell_type": "code",
      "source": "damp = #dB, the dampening in the stopband\ncutoff =  # The cutoff frequency in Hz\nstop = # Desired stopband start frequency, \nNt =  # input the calculation for number of taps  \nNt = int(np.ceil(Nt)) # Round up number of taps (coefficients) \nprint('Number of taps', Nt)\n\nh = signal.firwin(Nt, cutoff = cutoff, window =('chebwin', damp),fs=fs) # Design the filter using a Chebyshev window",
      "execution_count": null,
      "outputs": []
    },
    {
      "metadata": {},
      "cell_type": "markdown",
      "source": "#### Optimum filter\n\n\n"
    },
    {
      "metadata": {
        "trusted": true
      },
      "cell_type": "code",
      "source": "damp = #dB, the dampening in the stopband\ncutoff = # Desired cutoff frequency, Hz\nstop = # Desired stopband start frequency, Hz\ntrans_width = # Width of transition from pass band to stop band, Hz\nNt =  # input the calculation for number of taps  \nNt = int(np.ceil(Nt)) # Round up number of taps (coefficients) \nprint('Number of taps', Nt)\nh = signal.remez(Nt, [0, cutoff, cutoff + trans_width, 0.5*fs], [1, 0], Hz=fs)\n",
      "execution_count": null,
      "outputs": []
    },
    {
      "metadata": {},
      "cell_type": "markdown",
      "source": "We now plot the frequency response of the filter"
    },
    {
      "metadata": {
        "trusted": true
      },
      "cell_type": "code",
      "source": "plt.figure()\n# Plot the frequency response of the filter\nw, H = signal.freqz(h, worN=N)\nplt.plot(0.5*fs*w/np.pi, 20*np.log10(np.abs(H)), linewidth=2)\nplt.xlabel('Frequency (Hz)')\nplt.ylabel('Gain (dB)')\nplt.title('Frequency Response')\nplt.grid()\nplt.tight_layout()\nplt.show()",
      "execution_count": null,
      "outputs": []
    },
    {
      "metadata": {},
      "cell_type": "markdown",
      "source": "## Using the filter \n\nWe are now going to test your filter"
    },
    {
      "metadata": {
        "trusted": true
      },
      "cell_type": "code",
      "source": "filt = signal.convolve(x,h,mode='valid') # Convolving the filter coefficients and the signal\n\n# Plotting the result\nplt.figure()\nplt.plot(filt,'--.')\nplt.xlabel('')\nplt.ylabel('filterd')\nplt.grid()\nplt.tight_layout()\nplt.show()\n\n# Plot the DFT\nplt.figure()\nFilt = np.fft.fft(filt,N)\nplt.plot(np.arange(0,N)*fs/N,np.abs(Filt),'-o')\nplt.xlabel('$f$ (Hz)')\nplt.ylabel('Magnitude')\nplt.xlim([0,fs/2]) # Only showing the half the plot\n\nplt.grid()\nplt.tight_layout()\nplt.show()\n",
      "execution_count": null,
      "outputs": []
    }
  ],
  "metadata": {
    "kernelspec": {
      "name": "python36",
      "display_name": "Python 3.6",
      "language": "python"
    },
    "language_info": {
      "mimetype": "text/x-python",
      "nbconvert_exporter": "python",
      "name": "python",
      "pygments_lexer": "ipython3",
      "version": "3.6.6",
      "file_extension": ".py",
      "codemirror_mode": {
        "version": 3,
        "name": "ipython"
      }
    }
  },
  "nbformat": 4,
  "nbformat_minor": 2
}